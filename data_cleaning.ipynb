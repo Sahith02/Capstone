{
 "cells": [
  {
   "cell_type": "markdown",
   "metadata": {},
   "source": [
    "## Imports"
   ]
  },
  {
   "cell_type": "code",
   "execution_count": 1,
   "metadata": {},
   "outputs": [],
   "source": [
    "import os\n",
    "import numpy as np\n",
    "from PIL import Image\n",
    "import matplotlib.pyplot as plt"
   ]
  },
  {
   "cell_type": "markdown",
   "metadata": {},
   "source": [
    "## Initialisation"
   ]
  },
  {
   "cell_type": "code",
   "execution_count": 2,
   "metadata": {},
   "outputs": [],
   "source": [
    "# Path to the original data folder\n",
    "PATH_TO_DATA_FOLDER = \"D:\\Files\\Projects College\\Capstone\\data_unclean\\Test\"\n",
    "\n",
    "# Path to the initially empty folder to store the resized images\n",
    "PATH_TO_RESIZED_FOLDER = \"D:\\Files\\Projects College\\Capstone\\data_unclean\\Test_resized\"\n",
    "\n",
    "# Path to the initially empty folder to store the greyscale images\n",
    "PATH_TO_GREYSCALE_FOLDER = \"D:\\Files\\Projects College\\Capstone\\data_unclean\\Test_BW\"\n",
    "\n",
    "STANDARD_WIDTH = 352    # 420\n",
    "STANDARD_HEIGHT = 240    # 285\n",
    "\n",
    "SHOW_PROGRESS_COUNT = 10    # Shows progress after this many number of images are processed"
   ]
  },
  {
   "cell_type": "markdown",
   "metadata": {},
   "source": [
    "## Distribution of widths and heights in a folder"
   ]
  },
  {
   "cell_type": "code",
   "execution_count": 3,
   "metadata": {},
   "outputs": [],
   "source": [
    "def plot_distribution(x, title_text):\n",
    "    values, bins, patches = plt.hist(x, bins = 5)\n",
    "    values = [int(x) for x in values]\n",
    "    bins = [int(x) for x in bins]\n",
    "    max_frequency = max(values)\n",
    "    max_frequency_indices = [i for i, e in enumerate(values) if e == max_frequency]\n",
    "    max_bin_ends = [(bins[x], bins[x + 1]) for x in max_frequency_indices]\n",
    "    max_bin_ends = [str(x) for x in max_bin_ends]\n",
    "    plt.title(\"Distribution of \" + title_text + \", Max bin: \" + \", \".join(max_bin_ends))\n",
    "    plt.show()"
   ]
  },
  {
   "cell_type": "code",
   "execution_count": 4,
   "metadata": {},
   "outputs": [],
   "source": [
    "def plot_all_distributions(PATH_TO_DATA_FOLDER):\n",
    "    all_widths = []\n",
    "    all_heights = []\n",
    "\n",
    "    for file_name in os.listdir(PATH_TO_DATA_FOLDER):\n",
    "        image = Image.open(PATH_TO_DATA_FOLDER + \"\\\\\" + file_name)\n",
    "        width, height = image.size\n",
    "        if(height < 500 and width < 500):\n",
    "#         if(True):\n",
    "            all_widths.append(width)\n",
    "            all_heights.append(height)\n",
    "\n",
    "    plot_distribution(all_widths, \"Widths\")\n",
    "    plot_distribution(all_heights, \"Heights\")"
   ]
  },
  {
   "cell_type": "code",
   "execution_count": 5,
   "metadata": {},
   "outputs": [
    {
     "data": {
      "image/png": "[encoded data removed]",
      "text/plain": [
       "<Figure size 432x288 with 1 Axes>"
      ]
     },
     "metadata": {
      "needs_background": "light"
     },
     "output_type": "display_data"
    },
    {
     "data": {
      "image/png": "[encoded data removed]",
      "text/plain": [
       "<Figure size 432x288 with 1 Axes>"
      ]
     },
     "metadata": {
      "needs_background": "light"
     },
     "output_type": "display_data"
    }
   ],
   "source": [
    "plot_all_distributions(PATH_TO_DATA_FOLDER)"
   ]
  },
  {
   "cell_type": "markdown",
   "metadata": {},
   "source": [
    "## Resizing Image"
   ]
  },
  {
   "cell_type": "code",
   "execution_count": 6,
   "metadata": {},
   "outputs": [],
   "source": [
    "def resize_all_images(PATH_TO_DATA_FOLDER, PATH_TO_RESIZED_FOLDER, STANDARD_WIDTH, STANDARD_HEIGHT):\n",
    "    count = 0\n",
    "    for file_name in os.listdir(PATH_TO_DATA_FOLDER):\n",
    "        if(count % SHOW_PROGRESS_COUNT == 0):\n",
    "            print(\"Finished \" + str(count))\n",
    "        count += 1\n",
    "        image = Image.open(PATH_TO_DATA_FOLDER + \"\\\\\" + file_name).resize((STANDARD_WIDTH, STANDARD_HEIGHT))\n",
    "        image.save(PATH_TO_RESIZED_FOLDER + \"\\\\\" + file_name)\n",
    "    print(\"Finished all\")"
   ]
  },
  {
   "cell_type": "code",
   "execution_count": 7,
   "metadata": {},
   "outputs": [
    {
     "name": "stdout",
     "output_type": "stream",
     "text": [
      "Finished 0\n",
      "Finished 10\n",
      "Finished all\n"
     ]
    }
   ],
   "source": [
    "resize_all_images(PATH_TO_DATA_FOLDER, PATH_TO_RESIZED_FOLDER, STANDARD_WIDTH, STANDARD_HEIGHT)"
   ]
  },
  {
   "cell_type": "markdown",
   "metadata": {},
   "source": [
    "## Convert Color to Greyscale"
   ]
  },
  {
   "cell_type": "code",
   "execution_count": 8,
   "metadata": {},
   "outputs": [],
   "source": [
    "def color_to_grayscale(PATH_TO_RESIZED_FOLDER, PATH_TO_GREYSCALE_FOLDER):\n",
    "    count = 0\n",
    "    for file_name in os.listdir(PATH_TO_RESIZED_FOLDER):\n",
    "        if(count % SHOW_PROGRESS_COUNT == 0):\n",
    "            print(\"Finished \" + str(count))\n",
    "        count += 1\n",
    "        image = Image.open(PATH_TO_RESIZED_FOLDER + \"\\\\\" + file_name).convert('L')\n",
    "        image.save(PATH_TO_GREYSCALE_FOLDER + \"\\\\\" + file_name)\n",
    "    print(\"Finished all\")"
   ]
  },
  {
   "cell_type": "code",
   "execution_count": 9,
   "metadata": {},
   "outputs": [
    {
     "name": "stdout",
     "output_type": "stream",
     "text": [
      "Finished 0\n",
      "Finished 10\n",
      "Finished all\n"
     ]
    }
   ],
   "source": [
    "color_to_grayscale(PATH_TO_RESIZED_FOLDER, PATH_TO_GREYSCALE_FOLDER)"
   ]
  },
  {
   "cell_type": "code",
   "execution_count": null,
   "metadata": {},
   "outputs": [],
   "source": []
  },
  {
   "cell_type": "code",
   "execution_count": null,
   "metadata": {},
   "outputs": [],
   "source": []
  },
  {
   "cell_type": "code",
   "execution_count": null,
   "metadata": {},
   "outputs": [],
   "source": []
  },
  {
   "cell_type": "code",
   "execution_count": null,
   "metadata": {},
   "outputs": [],
   "source": []
  }
 ],
 "metadata": {
  "kernelspec": {
   "display_name": "Python 3",
   "language": "python",
   "name": "python3"
  },
  "language_info": {
   "codemirror_mode": {
    "name": "ipython",
    "version": 3
   },
   "file_extension": ".py",
   "mimetype": "text/x-python",
   "name": "python",
   "nbconvert_exporter": "python",
   "pygments_lexer": "ipython3",
   "version": "3.7.3"
  }
 },
 "nbformat": 4,
 "nbformat_minor": 2
}
